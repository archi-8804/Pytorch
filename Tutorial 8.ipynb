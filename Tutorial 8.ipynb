{
 "cells": [
  {
   "cell_type": "markdown",
   "id": "4789f4e0",
   "metadata": {},
   "source": [
    "# Logistic Regression"
   ]
  },
  {
   "cell_type": "code",
   "execution_count": 37,
   "id": "8e265dfd",
   "metadata": {},
   "outputs": [],
   "source": [
    "import torch\n",
    "import numpy as np\n",
    "import torch.nn as nn\n",
    "import matplotlib.pyplot as ply\n",
    "from sklearn import datasets\n",
    "from sklearn.preprocessing import StandardScaler\n",
    "from sklearn.model_selection import train_test_split"
   ]
  },
  {
   "cell_type": "code",
   "execution_count": 38,
   "id": "889dd460",
   "metadata": {},
   "outputs": [],
   "source": [
    "#Data\n",
    "bc=datasets.load_breast_cancer()\n",
    "X,y=bc.data, bc.target"
   ]
  },
  {
   "cell_type": "code",
   "execution_count": 39,
   "id": "12e5992b",
   "metadata": {},
   "outputs": [
    {
     "name": "stdout",
     "output_type": "stream",
     "text": [
      "569 30\n"
     ]
    }
   ],
   "source": [
    "n_samples, n_features= X.shape\n",
    "print(n_samples, n_features)"
   ]
  },
  {
   "cell_type": "code",
   "execution_count": 40,
   "id": "f4a72d9a",
   "metadata": {},
   "outputs": [],
   "source": [
    "X_train, X_test,y_train,y_test=train_test_split(X,y,test_size=0.2, random_state=1234)"
   ]
  },
  {
   "cell_type": "code",
   "execution_count": 41,
   "id": "4408e45d",
   "metadata": {},
   "outputs": [],
   "source": [
    "#scaling(This should be always done in logistic regression)\n",
    "sc=StandardScaler()\n",
    "X_train=sc.fit_transform(X_train)\n",
    "X_test=sc.transform(X_test)"
   ]
  },
  {
   "cell_type": "code",
   "execution_count": 42,
   "id": "9f5dd26d",
   "metadata": {},
   "outputs": [],
   "source": [
    "X_train=torch.from_numpy(X_train.astype(np.float32))\n",
    "X_test=torch.from_numpy(X_test.astype(np.float32))\n",
    "y_train=torch.from_numpy(y_train.astype(np.float32))\n",
    "y_test=torch.from_numpy(y_test.astype(np.float32))"
   ]
  },
  {
   "cell_type": "code",
   "execution_count": 43,
   "id": "5cc05a51",
   "metadata": {},
   "outputs": [],
   "source": [
    "#Reshaping\n",
    "y_train=y_train.view(y_train.shape[0],1)\n",
    "y_test=y_test.view(y_test.shape[0],1)"
   ]
  },
  {
   "cell_type": "code",
   "execution_count": 46,
   "id": "02a68ce5",
   "metadata": {},
   "outputs": [],
   "source": [
    "#1)model\n",
    "#f=wx+b, sigmoid at the end\n",
    "class LogisticRegression(nn.Module):\n",
    "    def __init__(self, n_input_features):\n",
    "        super(LogisticRegression, self).__init__()\n",
    "        self.linear=nn.Linear(n_input_features,1)\n",
    "        \n",
    "    def forward(self,x):\n",
    "        y_predicted=torch.sigmoid(self.linear(x))\n",
    "        return y_predicted"
   ]
  },
  {
   "cell_type": "code",
   "execution_count": 47,
   "id": "c3f94a6e",
   "metadata": {},
   "outputs": [],
   "source": [
    "model=LogisticRegression(n_features)"
   ]
  },
  {
   "cell_type": "code",
   "execution_count": 48,
   "id": "31e13c65",
   "metadata": {},
   "outputs": [],
   "source": [
    "#Binary entropy loss\n",
    "learning_rate =0.01\n",
    "criterion=nn.BCELoss()\n",
    "optimizer=torch.optim.SGD(model.parameters(), lr=learning_rate)"
   ]
  },
  {
   "cell_type": "code",
   "execution_count": 50,
   "id": "5b5f727b",
   "metadata": {},
   "outputs": [],
   "source": [
    "num_epochs=100\n",
    "for epoch in range(num_epochs):\n",
    "    y_predicted=model(X_train)\n",
    "    loss = criterion (y_predicted,y_train)"
   ]
  },
  {
   "cell_type": "code",
   "execution_count": 51,
   "id": "86237387",
   "metadata": {},
   "outputs": [],
   "source": [
    "#bak=ckward loss\n",
    "loss.backward()"
   ]
  },
  {
   "cell_type": "code",
   "execution_count": 52,
   "id": "0c66c4b9",
   "metadata": {},
   "outputs": [],
   "source": [
    "#updates\n",
    "optimizer.step()"
   ]
  },
  {
   "cell_type": "code",
   "execution_count": 54,
   "id": "768d8879",
   "metadata": {},
   "outputs": [
    {
     "data": {
      "text/plain": [
       "<bound method Optimizer.zero_grad of SGD (\n",
       "Parameter Group 0\n",
       "    dampening: 0\n",
       "    differentiable: False\n",
       "    foreach: None\n",
       "    lr: 0.01\n",
       "    maximize: False\n",
       "    momentum: 0\n",
       "    nesterov: False\n",
       "    weight_decay: 0\n",
       ")>"
      ]
     },
     "execution_count": 54,
     "metadata": {},
     "output_type": "execute_result"
    }
   ],
   "source": [
    "#gradients zero\n",
    "optimizer.zero_grad"
   ]
  },
  {
   "cell_type": "code",
   "execution_count": 59,
   "id": "ec3e9226",
   "metadata": {},
   "outputs": [
    {
     "name": "stdout",
     "output_type": "stream",
     "text": [
      "Epoch: 100, Loss: 0.4299\n"
     ]
    }
   ],
   "source": [
    "\n",
    "if (epoch + 1) % 10 == 0:\n",
    "    print(f'Epoch: {epoch + 1}, Loss: {loss.item():.4f}')\n"
   ]
  },
  {
   "cell_type": "code",
   "execution_count": 62,
   "id": "16e3331d",
   "metadata": {},
   "outputs": [],
   "source": [
    "with torch.no_grad():\n",
    "    y_predicted = model(X_test)\n",
    "    y_predicted_cls = y_predicted.round()\n",
    "    acc = y_predicted_cls.eq(y_test).sum().float() / float(y_test.shape[0])\n"
   ]
  },
  {
   "cell_type": "code",
   "execution_count": 64,
   "id": "3aebf525",
   "metadata": {},
   "outputs": [
    {
     "name": "stdout",
     "output_type": "stream",
     "text": [
      "Accuracy = 0.8947\n"
     ]
    }
   ],
   "source": [
    "print(f'Accuracy = {acc.item():.4f}')\n"
   ]
  },
  {
   "cell_type": "code",
   "execution_count": null,
   "id": "91e38e0e",
   "metadata": {},
   "outputs": [],
   "source": []
  },
  {
   "cell_type": "code",
   "execution_count": null,
   "id": "1fbd597e",
   "metadata": {},
   "outputs": [],
   "source": []
  }
 ],
 "metadata": {
  "kernelspec": {
   "display_name": "Python 3 (ipykernel)",
   "language": "python",
   "name": "python3"
  },
  "language_info": {
   "codemirror_mode": {
    "name": "ipython",
    "version": 3
   },
   "file_extension": ".py",
   "mimetype": "text/x-python",
   "name": "python",
   "nbconvert_exporter": "python",
   "pygments_lexer": "ipython3",
   "version": "3.10.8"
  }
 },
 "nbformat": 4,
 "nbformat_minor": 5
}
