{
 "cells": [
  {
   "cell_type": "markdown",
   "id": "adc3baa2",
   "metadata": {},
   "source": [
    "Divide into Small batches \n",
    "\n",
    "epoch= 1 forward and backward pass of ALL training examples\n",
    "\n",
    "batch_size= number of training samples in 1 forward and backward pass\n",
    "\n",
    "number of iterations= number of passes, each pass using [batch_size] number of samples\n",
    "\n",
    "eg. 100 samples, batch_size=20 --> 100/20=5 iterations for 1 epoch"
   ]
  },
  {
   "cell_type": "code",
   "execution_count": 6,
   "id": "31023894",
   "metadata": {},
   "outputs": [],
   "source": [
    "import torch\n",
    "import torchvision\n",
    "from torch.utils.data import Dataset, DataLoader\n",
    "import numpy as np\n",
    "import math"
   ]
  },
  {
   "cell_type": "markdown",
   "id": "3742fb31",
   "metadata": {},
   "source": [
    "DataLoader can do the batch computation for us"
   ]
  },
  {
   "cell_type": "code",
   "execution_count": 15,
   "id": "8d45faa9",
   "metadata": {},
   "outputs": [],
   "source": [
    "## implement __init__ , __getitem__ , and __len__\n",
    "class WineDataset(Dataset):\n",
    "    \n",
    "    def __init__(self, csv_file):\n",
    "        # data loading\n",
    "        xy = np.loadtxt('./wine.csv', delimiter=\",\", dtype=np.float32, skiprows=1)\n",
    "        self.x = torch.from_numpy(xy[:, 1:])\n",
    "        self.y = torch.from_numpy(xy[:, [0]])  # n_samples=1\n",
    "        self.n_samples=xy.shape[0]\n",
    "    \n",
    "    def __getitem__(self, index):\n",
    "        # dataset[0]\n",
    "        return self.x[index],self.y[index]\n",
    "        \n",
    "    def __len__(self):\n",
    "        # len(dataset)\n",
    "        return self.n_samples"
   ]
  },
  {
   "cell_type": "code",
   "execution_count": 23,
   "id": "4343a5e3",
   "metadata": {},
   "outputs": [],
   "source": [
    "# create dataset\n",
    "dataset = WineDataset('./wine.csv')\n",
    "#first_data=dataset[0]\n",
    "#features,labels= first_data\n",
    "#print(features,labels)\n"
   ]
  },
  {
   "cell_type": "code",
   "execution_count": 26,
   "id": "c69a1540",
   "metadata": {},
   "outputs": [],
   "source": [
    "dataloader = DataLoader(dataset=dataset, batch_size=4, shuffle=True) #num_workers=2)"
   ]
  },
  {
   "cell_type": "code",
   "execution_count": 27,
   "id": "4532b4c8",
   "metadata": {},
   "outputs": [
    {
     "name": "stdout",
     "output_type": "stream",
     "text": [
      "tensor([[1.2360e+01, 3.8300e+00, 2.3800e+00, 2.1000e+01, 8.8000e+01, 2.3000e+00,\n",
      "         9.2000e-01, 5.0000e-01, 1.0400e+00, 7.6500e+00, 5.6000e-01, 1.5800e+00,\n",
      "         5.2000e+02],\n",
      "        [1.4100e+01, 2.1600e+00, 2.3000e+00, 1.8000e+01, 1.0500e+02, 2.9500e+00,\n",
      "         3.3200e+00, 2.2000e-01, 2.3800e+00, 5.7500e+00, 1.2500e+00, 3.1700e+00,\n",
      "         1.5100e+03],\n",
      "        [1.2770e+01, 2.3900e+00, 2.2800e+00, 1.9500e+01, 8.6000e+01, 1.3900e+00,\n",
      "         5.1000e-01, 4.8000e-01, 6.4000e-01, 9.9000e+00, 5.7000e-01, 1.6300e+00,\n",
      "         4.7000e+02],\n",
      "        [1.2430e+01, 1.5300e+00, 2.2900e+00, 2.1500e+01, 8.6000e+01, 2.7400e+00,\n",
      "         3.1500e+00, 3.9000e-01, 1.7700e+00, 3.9400e+00, 6.9000e-01, 2.8400e+00,\n",
      "         3.5200e+02]]) tensor([[3.],\n",
      "        [1.],\n",
      "        [3.],\n",
      "        [2.]])\n"
     ]
    }
   ],
   "source": [
    "dataiter = iter(dataloader)\n",
    "data = next(dataiter)\n",
    "features,labels=data\n",
    "print(features, labels)"
   ]
  },
  {
   "cell_type": "code",
   "execution_count": 28,
   "id": "9dff19f0",
   "metadata": {},
   "outputs": [
    {
     "name": "stdout",
     "output_type": "stream",
     "text": [
      "178 45\n"
     ]
    }
   ],
   "source": [
    "#Dummy training loop\n",
    "num_epochs=2\n",
    "total_samples=len(dataset)\n",
    "n_iterations=math.ceil(total_samples/4)\n",
    "print(total_samples, n_iterations)"
   ]
  },
  {
   "cell_type": "code",
   "execution_count": 29,
   "id": "dbfaa502",
   "metadata": {},
   "outputs": [
    {
     "name": "stdout",
     "output_type": "stream",
     "text": [
      "epoch 1/2, step 5/45,inputs torch.Size([4, 13])\n",
      "epoch 1/2, step 10/45,inputs torch.Size([4, 13])\n",
      "epoch 1/2, step 15/45,inputs torch.Size([4, 13])\n",
      "epoch 1/2, step 20/45,inputs torch.Size([4, 13])\n",
      "epoch 1/2, step 25/45,inputs torch.Size([4, 13])\n",
      "epoch 1/2, step 30/45,inputs torch.Size([4, 13])\n",
      "epoch 1/2, step 35/45,inputs torch.Size([4, 13])\n",
      "epoch 1/2, step 40/45,inputs torch.Size([4, 13])\n",
      "epoch 1/2, step 45/45,inputs torch.Size([2, 13])\n",
      "epoch 2/2, step 5/45,inputs torch.Size([4, 13])\n",
      "epoch 2/2, step 10/45,inputs torch.Size([4, 13])\n",
      "epoch 2/2, step 15/45,inputs torch.Size([4, 13])\n",
      "epoch 2/2, step 20/45,inputs torch.Size([4, 13])\n",
      "epoch 2/2, step 25/45,inputs torch.Size([4, 13])\n",
      "epoch 2/2, step 30/45,inputs torch.Size([4, 13])\n",
      "epoch 2/2, step 35/45,inputs torch.Size([4, 13])\n",
      "epoch 2/2, step 40/45,inputs torch.Size([4, 13])\n",
      "epoch 2/2, step 45/45,inputs torch.Size([2, 13])\n"
     ]
    }
   ],
   "source": [
    "for epoch in range(num_epochs):\n",
    "    for i,(inputs,labels) in enumerate(dataloader):\n",
    "        if(i+1)%5==0:\n",
    "           print(f'epoch {epoch+1}/{num_epochs}, step {i+1}/{n_iterations},inputs {inputs.shape}')\n",
    "    \n",
    "    #forward backward, update\n",
    "    "
   ]
  },
  {
   "cell_type": "code",
   "execution_count": 14,
   "id": "b2dc6a78",
   "metadata": {},
   "outputs": [
    {
     "ename": "AttributeError",
     "evalue": "module 'torchvision.datasets' has no attribute 'MIST'",
     "output_type": "error",
     "traceback": [
      "\u001b[1;31m---------------------------------------------------------------------------\u001b[0m",
      "\u001b[1;31mAttributeError\u001b[0m                            Traceback (most recent call last)",
      "Cell \u001b[1;32mIn[14], line 2\u001b[0m\n\u001b[0;32m      1\u001b[0m \u001b[38;5;66;03m#built in datasets\u001b[39;00m\n\u001b[1;32m----> 2\u001b[0m \u001b[43mtorchvision\u001b[49m\u001b[38;5;241;43m.\u001b[39;49m\u001b[43mdatasets\u001b[49m\u001b[38;5;241;43m.\u001b[39;49m\u001b[43mMIST\u001b[49m()\n",
      "File \u001b[1;32m~\\AppData\\Local\\Programs\\Python\\Python310\\lib\\site-packages\\torchvision\\datasets\\__init__.py:144\u001b[0m, in \u001b[0;36m__getattr__\u001b[1;34m(name)\u001b[0m\n\u001b[0;32m    140\u001b[0m     \u001b[38;5;28;01mfrom\u001b[39;00m \u001b[38;5;21;01mtorchvision\u001b[39;00m\u001b[38;5;21;01m.\u001b[39;00m\u001b[38;5;21;01mtv_tensors\u001b[39;00m\u001b[38;5;21;01m.\u001b[39;00m\u001b[38;5;21;01m_dataset_wrapper\u001b[39;00m \u001b[38;5;28;01mimport\u001b[39;00m wrap_dataset_for_transforms_v2\n\u001b[0;32m    142\u001b[0m     \u001b[38;5;28;01mreturn\u001b[39;00m wrap_dataset_for_transforms_v2\n\u001b[1;32m--> 144\u001b[0m \u001b[38;5;28;01mraise\u001b[39;00m \u001b[38;5;167;01mAttributeError\u001b[39;00m(\u001b[38;5;124mf\u001b[39m\u001b[38;5;124m\"\u001b[39m\u001b[38;5;124mmodule \u001b[39m\u001b[38;5;132;01m{\u001b[39;00m\u001b[38;5;18m__name__\u001b[39m\u001b[38;5;132;01m!r}\u001b[39;00m\u001b[38;5;124m has no attribute \u001b[39m\u001b[38;5;132;01m{\u001b[39;00mname\u001b[38;5;132;01m!r}\u001b[39;00m\u001b[38;5;124m\"\u001b[39m)\n",
      "\u001b[1;31mAttributeError\u001b[0m: module 'torchvision.datasets' has no attribute 'MIST'"
     ]
    }
   ],
   "source": [
    "#built in datasets\n",
    "torchvision.datasets.MIST()"
   ]
  },
  {
   "cell_type": "code",
   "execution_count": null,
   "id": "05a91f64",
   "metadata": {},
   "outputs": [],
   "source": []
  }
 ],
 "metadata": {
  "kernelspec": {
   "display_name": "Python 3 (ipykernel)",
   "language": "python",
   "name": "python3"
  },
  "language_info": {
   "codemirror_mode": {
    "name": "ipython",
    "version": 3
   },
   "file_extension": ".py",
   "mimetype": "text/x-python",
   "name": "python",
   "nbconvert_exporter": "python",
   "pygments_lexer": "ipython3",
   "version": "3.10.8"
  }
 },
 "nbformat": 4,
 "nbformat_minor": 5
}
