{
 "cells": [
  {
   "cell_type": "code",
   "execution_count": 33,
   "id": "2ffd6546",
   "metadata": {},
   "outputs": [],
   "source": [
    "#Pytorch has \"autograd\" package which can find all the derivatives\n",
    "import torch"
   ]
  },
  {
   "cell_type": "code",
   "execution_count": 42,
   "id": "e9cedd2e",
   "metadata": {},
   "outputs": [
    {
     "name": "stdout",
     "output_type": "stream",
     "text": [
      "tensor([0.8385, 0.8267, 0.6974], requires_grad=True)\n",
      "torch.float32\n"
     ]
    }
   ],
   "source": [
    "x=torch.rand(3, requires_grad=True)\n",
    "print(x)\n",
    "print(x.dtype)"
   ]
  },
  {
   "cell_type": "code",
   "execution_count": 58,
   "id": "d08f6ff9",
   "metadata": {},
   "outputs": [
    {
     "name": "stdout",
     "output_type": "stream",
     "text": [
      "tensor([2.8385, 2.8267, 2.6974], grad_fn=<AddBackward0>)\n"
     ]
    }
   ],
   "source": [
    "#Pytorch creates a computational graph\n",
    "y=x+2\n",
    "print(y)"
   ]
  },
  {
   "cell_type": "code",
   "execution_count": 59,
   "id": "ff2ea680",
   "metadata": {},
   "outputs": [
    {
     "name": "stdout",
     "output_type": "stream",
     "text": [
      "tensor([16.1140, 15.9807, 14.5524], grad_fn=<MulBackward0>)\n"
     ]
    }
   ],
   "source": [
    "#MulBackward as here our operation is multiplication\n",
    "z=y*y*2\n",
    "print(z)"
   ]
  },
  {
   "cell_type": "code",
   "execution_count": 60,
   "id": "a22cd493",
   "metadata": {},
   "outputs": [
    {
     "name": "stdout",
     "output_type": "stream",
     "text": [
      "tensor([16.1140, 15.9807, 14.5524], grad_fn=<MulBackward0>)\n",
      "torch.float32\n"
     ]
    }
   ],
   "source": [
    "#z=c.mean()\n",
    "print(z)\n",
    "print(z.dtype)"
   ]
  },
  {
   "cell_type": "code",
   "execution_count": 61,
   "id": "f755437e",
   "metadata": {},
   "outputs": [],
   "source": [
    "#backpropagation\n",
    "#z.backward() #dz/dx(mean value only)\n",
    "#he calculated gradients are then stored in the grad attribute of the tensor x.\n",
    "#print(x.grad)"
   ]
  },
  {
   "cell_type": "code",
   "execution_count": 62,
   "id": "0c8000ff",
   "metadata": {},
   "outputs": [
    {
     "name": "stdout",
     "output_type": "stream",
     "text": [
      "tensor([1.1354e+00, 1.1307e+01, 1.0790e-02])\n"
     ]
    }
   ],
   "source": [
    "#When not a scalar\n",
    "#x.grad will contain the gradients of z with respect to x, each element scaled by the corresponding weight from the vector v. The use of weights in backpropagation is a way to assign different importance to different elements in the loss calculation.\n",
    "v = torch.tensor([0.1, 1.0, 0.001], dtype=torch.float32)\n",
    "z.backward(v)\n",
    "print(x.grad)"
   ]
  },
  {
   "cell_type": "markdown",
   "id": "9b9fe44c",
   "metadata": {},
   "source": [
    "Preventing Gradient History"
   ]
  },
  {
   "cell_type": "code",
   "execution_count": 63,
   "id": "1981db98",
   "metadata": {},
   "outputs": [
    {
     "name": "stdout",
     "output_type": "stream",
     "text": [
      "tensor([0.8385, 0.8267, 0.6974])\n"
     ]
    }
   ],
   "source": [
    "#x.requires_grad_(False)\n",
    "#x.requires_grad_(False)\n",
    "#print(x)"
   ]
  },
  {
   "cell_type": "code",
   "execution_count": 64,
   "id": "92441056",
   "metadata": {},
   "outputs": [
    {
     "name": "stdout",
     "output_type": "stream",
     "text": [
      "tensor([0.8385, 0.8267, 0.6974])\n"
     ]
    }
   ],
   "source": [
    "#x.detach()\n",
    "y=x.detach()\n",
    "print(y)"
   ]
  },
  {
   "cell_type": "code",
   "execution_count": 65,
   "id": "0ae429e8",
   "metadata": {},
   "outputs": [
    {
     "name": "stdout",
     "output_type": "stream",
     "text": [
      "tensor([2.8385, 2.8267, 2.6974])\n"
     ]
    }
   ],
   "source": [
    "#with torch.no_grad():\n",
    "with torch.no_grad():\n",
    "    y=x+2\n",
    "    print(y)\n",
    "    "
   ]
  },
  {
   "cell_type": "markdown",
   "id": "cd45e502",
   "metadata": {},
   "source": [
    "# Dummy Training Example "
   ]
  },
  {
   "cell_type": "code",
   "execution_count": 66,
   "id": "088ad63c",
   "metadata": {},
   "outputs": [],
   "source": [
    "weights=torch.ones(4,requires_grad=True)"
   ]
  },
  {
   "cell_type": "code",
   "execution_count": 69,
   "id": "1db670ac",
   "metadata": {},
   "outputs": [
    {
     "name": "stdout",
     "output_type": "stream",
     "text": [
      "tensor([3., 3., 3., 3.])\n",
      "tensor([3., 3., 3., 3.])\n"
     ]
    }
   ],
   "source": [
    "for epoch in range(2):\n",
    "    model_output=(weights*3).sum()\n",
    "    \n",
    "    model_output.backward()\n",
    "    \n",
    "    print(weights.grad)\n",
    "    weights.grad.zero_()\n",
    "    "
   ]
  },
  {
   "cell_type": "markdown",
   "id": "8f737f6c",
   "metadata": {},
   "source": [
    "# Optimization"
   ]
  },
  {
   "cell_type": "code",
   "execution_count": 76,
   "id": "398f7ba3",
   "metadata": {},
   "outputs": [],
   "source": [
    "weights=torch.ones(4,requires_grad=True)"
   ]
  },
  {
   "cell_type": "code",
   "execution_count": 77,
   "id": "b9afc607",
   "metadata": {},
   "outputs": [],
   "source": [
    "#Stochastic Gradient Descent\n",
    "optimizer=torch.optim.SGD([weights],lr=0.01)\n",
    "optimizer.step()\n",
    "optimizer.zero_grad()"
   ]
  },
  {
   "cell_type": "code",
   "execution_count": null,
   "id": "d8329021",
   "metadata": {},
   "outputs": [],
   "source": []
  }
 ],
 "metadata": {
  "kernelspec": {
   "display_name": "Python 3 (ipykernel)",
   "language": "python",
   "name": "python3"
  },
  "language_info": {
   "codemirror_mode": {
    "name": "ipython",
    "version": 3
   },
   "file_extension": ".py",
   "mimetype": "text/x-python",
   "name": "python",
   "nbconvert_exporter": "python",
   "pygments_lexer": "ipython3",
   "version": "3.10.8"
  }
 },
 "nbformat": 4,
 "nbformat_minor": 5
}
