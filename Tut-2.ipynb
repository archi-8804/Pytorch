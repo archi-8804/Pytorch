{
 "cells": [
  {
   "cell_type": "code",
   "execution_count": 72,
   "id": "f4bf8bc1",
   "metadata": {},
   "outputs": [],
   "source": [
    "import torch\n",
    "import numpy as np"
   ]
  },
  {
   "cell_type": "code",
   "execution_count": 73,
   "id": "dffb510f",
   "metadata": {},
   "outputs": [],
   "source": [
    "x=torch.rand(3)"
   ]
  },
  {
   "cell_type": "code",
   "execution_count": 74,
   "id": "0cdb3d5d",
   "metadata": {},
   "outputs": [
    {
     "name": "stdout",
     "output_type": "stream",
     "text": [
      "tensor([0.0345, 0.1159, 0.3205])\n"
     ]
    }
   ],
   "source": [
    "print(x)"
   ]
  },
  {
   "cell_type": "code",
   "execution_count": 75,
   "id": "8f2b5eb2",
   "metadata": {},
   "outputs": [
    {
     "ename": "AssertionError",
     "evalue": "Torch not compiled with CUDA enabled",
     "output_type": "error",
     "traceback": [
      "\u001b[1;31m---------------------------------------------------------------------------\u001b[0m",
      "\u001b[1;31mAssertionError\u001b[0m                            Traceback (most recent call last)",
      "Cell \u001b[1;32mIn[75], line 1\u001b[0m\n\u001b[1;32m----> 1\u001b[0m \u001b[38;5;28mprint\u001b[39m(\u001b[43mtorch\u001b[49m\u001b[38;5;241;43m.\u001b[39;49m\u001b[43mcuda\u001b[49m\u001b[38;5;241;43m.\u001b[39;49m\u001b[43mcurrent_device\u001b[49m\u001b[43m(\u001b[49m\u001b[43m)\u001b[49m)\n",
      "File \u001b[1;32m~\\AppData\\Local\\Programs\\Python\\Python310\\lib\\site-packages\\torch\\cuda\\__init__.py:769\u001b[0m, in \u001b[0;36mcurrent_device\u001b[1;34m()\u001b[0m\n\u001b[0;32m    767\u001b[0m \u001b[38;5;28;01mdef\u001b[39;00m \u001b[38;5;21mcurrent_device\u001b[39m() \u001b[38;5;241m-\u001b[39m\u001b[38;5;241m>\u001b[39m \u001b[38;5;28mint\u001b[39m:\n\u001b[0;32m    768\u001b[0m \u001b[38;5;250m    \u001b[39m\u001b[38;5;124mr\u001b[39m\u001b[38;5;124;03m\"\"\"Returns the index of a currently selected device.\"\"\"\u001b[39;00m\n\u001b[1;32m--> 769\u001b[0m     \u001b[43m_lazy_init\u001b[49m\u001b[43m(\u001b[49m\u001b[43m)\u001b[49m\n\u001b[0;32m    770\u001b[0m     \u001b[38;5;28;01mreturn\u001b[39;00m torch\u001b[38;5;241m.\u001b[39m_C\u001b[38;5;241m.\u001b[39m_cuda_getDevice()\n",
      "File \u001b[1;32m~\\AppData\\Local\\Programs\\Python\\Python310\\lib\\site-packages\\torch\\cuda\\__init__.py:289\u001b[0m, in \u001b[0;36m_lazy_init\u001b[1;34m()\u001b[0m\n\u001b[0;32m    284\u001b[0m     \u001b[38;5;28;01mraise\u001b[39;00m \u001b[38;5;167;01mRuntimeError\u001b[39;00m(\n\u001b[0;32m    285\u001b[0m         \u001b[38;5;124m\"\u001b[39m\u001b[38;5;124mCannot re-initialize CUDA in forked subprocess. To use CUDA with \u001b[39m\u001b[38;5;124m\"\u001b[39m\n\u001b[0;32m    286\u001b[0m         \u001b[38;5;124m\"\u001b[39m\u001b[38;5;124mmultiprocessing, you must use the \u001b[39m\u001b[38;5;124m'\u001b[39m\u001b[38;5;124mspawn\u001b[39m\u001b[38;5;124m'\u001b[39m\u001b[38;5;124m start method\u001b[39m\u001b[38;5;124m\"\u001b[39m\n\u001b[0;32m    287\u001b[0m     )\n\u001b[0;32m    288\u001b[0m \u001b[38;5;28;01mif\u001b[39;00m \u001b[38;5;129;01mnot\u001b[39;00m \u001b[38;5;28mhasattr\u001b[39m(torch\u001b[38;5;241m.\u001b[39m_C, \u001b[38;5;124m\"\u001b[39m\u001b[38;5;124m_cuda_getDeviceCount\u001b[39m\u001b[38;5;124m\"\u001b[39m):\n\u001b[1;32m--> 289\u001b[0m     \u001b[38;5;28;01mraise\u001b[39;00m \u001b[38;5;167;01mAssertionError\u001b[39;00m(\u001b[38;5;124m\"\u001b[39m\u001b[38;5;124mTorch not compiled with CUDA enabled\u001b[39m\u001b[38;5;124m\"\u001b[39m)\n\u001b[0;32m    290\u001b[0m \u001b[38;5;28;01mif\u001b[39;00m _cudart \u001b[38;5;129;01mis\u001b[39;00m \u001b[38;5;28;01mNone\u001b[39;00m:\n\u001b[0;32m    291\u001b[0m     \u001b[38;5;28;01mraise\u001b[39;00m \u001b[38;5;167;01mAssertionError\u001b[39;00m(\n\u001b[0;32m    292\u001b[0m         \u001b[38;5;124m\"\u001b[39m\u001b[38;5;124mlibcudart functions unavailable. It looks like you have a broken build?\u001b[39m\u001b[38;5;124m\"\u001b[39m\n\u001b[0;32m    293\u001b[0m     )\n",
      "\u001b[1;31mAssertionError\u001b[0m: Torch not compiled with CUDA enabled"
     ]
    }
   ],
   "source": [
    "\n",
    "print(torch.cuda.current_device())\n"
   ]
  },
  {
   "cell_type": "code",
   "execution_count": 76,
   "id": "f39b5bfc",
   "metadata": {},
   "outputs": [
    {
     "data": {
      "text/plain": [
       "False"
      ]
     },
     "execution_count": 76,
     "metadata": {},
     "output_type": "execute_result"
    }
   ],
   "source": [
    "torch.cuda.is_available()"
   ]
  },
  {
   "cell_type": "markdown",
   "id": "445c5040",
   "metadata": {},
   "source": [
    "# Empty-function that creates a tensor with unitialised values"
   ]
  },
  {
   "cell_type": "code",
   "execution_count": 16,
   "id": "a9d9c976",
   "metadata": {},
   "outputs": [
    {
     "name": "stdout",
     "output_type": "stream",
     "text": [
      "tensor([[0., 0., 0.]])\n"
     ]
    }
   ],
   "source": [
    "x=torch.empty(1,3)\n",
    "print(x)"
   ]
  },
  {
   "cell_type": "markdown",
   "id": "6491c85b",
   "metadata": {},
   "source": [
    "# Random values Initialisation"
   ]
  },
  {
   "cell_type": "code",
   "execution_count": 17,
   "id": "78ce9520",
   "metadata": {},
   "outputs": [
    {
     "name": "stdout",
     "output_type": "stream",
     "text": [
      "tensor([[0.8799, 0.6884],\n",
      "        [0.3084, 0.8317]])\n"
     ]
    }
   ],
   "source": [
    "x=torch.rand(2,2)\n",
    "print(x)"
   ]
  },
  {
   "cell_type": "markdown",
   "id": "0634afe4",
   "metadata": {},
   "source": [
    "# Initialisation with ones"
   ]
  },
  {
   "cell_type": "code",
   "execution_count": 19,
   "id": "ba4febf4",
   "metadata": {},
   "outputs": [
    {
     "name": "stdout",
     "output_type": "stream",
     "text": [
      "tensor([[1., 1.],\n",
      "        [1., 1.]])\n"
     ]
    }
   ],
   "source": [
    "x=torch.ones(2,2)\n",
    "print(x)"
   ]
  },
  {
   "cell_type": "markdown",
   "id": "d26bcc16",
   "metadata": {},
   "source": [
    "# Data-types"
   ]
  },
  {
   "cell_type": "code",
   "execution_count": 25,
   "id": "6c485008",
   "metadata": {},
   "outputs": [
    {
     "name": "stdout",
     "output_type": "stream",
     "text": [
      "torch.float32\n"
     ]
    }
   ],
   "source": [
    "#torch.float16, torch.integer, torch.double\n",
    "print(x.dtype)"
   ]
  },
  {
   "cell_type": "markdown",
   "id": "b5033da9",
   "metadata": {},
   "source": [
    "# Size"
   ]
  },
  {
   "cell_type": "code",
   "execution_count": 26,
   "id": "63661c72",
   "metadata": {},
   "outputs": [
    {
     "name": "stdout",
     "output_type": "stream",
     "text": [
      "torch.Size([2, 2])\n"
     ]
    }
   ],
   "source": [
    "print(x.size())"
   ]
  },
  {
   "cell_type": "markdown",
   "id": "b243aebd",
   "metadata": {},
   "source": [
    "# Tensors with initialised values"
   ]
  },
  {
   "cell_type": "code",
   "execution_count": 28,
   "id": "9f9556c5",
   "metadata": {},
   "outputs": [
    {
     "name": "stdout",
     "output_type": "stream",
     "text": [
      "tensor([2.5000, 0.1000])\n"
     ]
    }
   ],
   "source": [
    "x=torch.tensor([2.5,0.1])\n",
    "print(x)"
   ]
  },
  {
   "cell_type": "markdown",
   "id": "0d83b25a",
   "metadata": {},
   "source": [
    "# Pytorch Operations"
   ]
  },
  {
   "cell_type": "code",
   "execution_count": 33,
   "id": "3d485ec8",
   "metadata": {},
   "outputs": [],
   "source": [
    "x=torch.rand(2,2)\n",
    "y=torch.rand(2,2)"
   ]
  },
  {
   "cell_type": "code",
   "execution_count": 34,
   "id": "7c7ce987",
   "metadata": {},
   "outputs": [
    {
     "name": "stdout",
     "output_type": "stream",
     "text": [
      "tensor([[0.2321, 0.7322],\n",
      "        [0.2126, 0.7186]])\n",
      "tensor([[0.8398, 0.4191],\n",
      "        [0.9864, 0.7815]])\n"
     ]
    }
   ],
   "source": [
    "print(x)\n",
    "print(y)"
   ]
  },
  {
   "cell_type": "code",
   "execution_count": 40,
   "id": "b77e515b",
   "metadata": {},
   "outputs": [
    {
     "name": "stdout",
     "output_type": "stream",
     "text": [
      "tensor([[1.5360, 2.6157],\n",
      "        [1.6243, 2.9374]])\n"
     ]
    }
   ],
   "source": [
    "#Addition\n",
    "z=x+y\n",
    "z=torch.add(x,y)\n",
    "y.add_(x)\n",
    "print(z)"
   ]
  },
  {
   "cell_type": "markdown",
   "id": "627240ed",
   "metadata": {},
   "source": [
    "In pytorch, every function what has trailing _ does an implace operation"
   ]
  },
  {
   "cell_type": "code",
   "execution_count": 42,
   "id": "dc1d53cd",
   "metadata": {},
   "outputs": [
    {
     "name": "stdout",
     "output_type": "stream",
     "text": [
      "tensor([[0.1511, 0.2799],\n",
      "        [0.1309, 0.2447]])\n"
     ]
    }
   ],
   "source": [
    "#division\n",
    "p=x/y\n",
    "p=torch.div(x,y)\n",
    "print(p)"
   ]
  },
  {
   "cell_type": "markdown",
   "id": "939aab44",
   "metadata": {},
   "source": [
    "# Slicing"
   ]
  },
  {
   "cell_type": "code",
   "execution_count": 44,
   "id": "2ff77869",
   "metadata": {},
   "outputs": [
    {
     "name": "stdout",
     "output_type": "stream",
     "text": [
      "tensor([[0.6378, 0.8520, 0.0040],\n",
      "        [0.7556, 0.1214, 0.8729],\n",
      "        [0.8409, 0.5430, 0.1014],\n",
      "        [0.9507, 0.2949, 0.9161],\n",
      "        [0.5338, 0.6740, 0.6426]])\n"
     ]
    }
   ],
   "source": [
    "a=torch.rand(5,3)\n",
    "print(a)"
   ]
  },
  {
   "cell_type": "code",
   "execution_count": 46,
   "id": "b93a7303",
   "metadata": {},
   "outputs": [
    {
     "name": "stdout",
     "output_type": "stream",
     "text": [
      "tensor([0.7556, 0.1214, 0.8729])\n"
     ]
    }
   ],
   "source": [
    "print(a[1,:])"
   ]
  },
  {
   "cell_type": "code",
   "execution_count": 49,
   "id": "41c7c7b5",
   "metadata": {},
   "outputs": [
    {
     "name": "stdout",
     "output_type": "stream",
     "text": [
      "tensor(0.1214)\n",
      "0.12138283252716064\n"
     ]
    }
   ],
   "source": [
    "#When we have only 1 value as form of tensor then to get exact value, we can use a .item() method\n",
    "print(a[1,1])\n",
    "print(a[1,1].item())"
   ]
  },
  {
   "cell_type": "markdown",
   "id": "d0791756",
   "metadata": {},
   "source": [
    "# Reshaping"
   ]
  },
  {
   "cell_type": "code",
   "execution_count": 51,
   "id": "2d3c6b5d",
   "metadata": {},
   "outputs": [
    {
     "name": "stdout",
     "output_type": "stream",
     "text": [
      "tensor([[0.6276, 0.9930, 0.2717, 0.6213],\n",
      "        [0.5980, 0.1673, 0.1510, 0.6388],\n",
      "        [0.1697, 0.8272, 0.5762, 0.1804],\n",
      "        [0.3316, 0.7726, 0.0843, 0.3117]])\n"
     ]
    }
   ],
   "source": [
    "b=torch.rand(4,4)\n",
    "print(b)"
   ]
  },
  {
   "cell_type": "code",
   "execution_count": 52,
   "id": "93c02227",
   "metadata": {},
   "outputs": [
    {
     "name": "stdout",
     "output_type": "stream",
     "text": [
      "tensor([0.6276, 0.9930, 0.2717, 0.6213, 0.5980, 0.1673, 0.1510, 0.6388, 0.1697,\n",
      "        0.8272, 0.5762, 0.1804, 0.3316, 0.7726, 0.0843, 0.3117])\n"
     ]
    }
   ],
   "source": [
    "q=b.view(16)\n",
    "print(q)"
   ]
  },
  {
   "cell_type": "code",
   "execution_count": 54,
   "id": "dc35eb1a",
   "metadata": {},
   "outputs": [
    {
     "name": "stdout",
     "output_type": "stream",
     "text": [
      "tensor([[0.6276, 0.9930, 0.2717, 0.6213, 0.5980, 0.1673, 0.1510, 0.6388],\n",
      "        [0.1697, 0.8272, 0.5762, 0.1804, 0.3316, 0.7726, 0.0843, 0.3117]])\n",
      "torch.Size([2, 8])\n"
     ]
    }
   ],
   "source": [
    "#pytorch determine the right value if we put -1.\n",
    "w=b.view((-1,8))\n",
    "print(w)\n",
    "print(w.size())"
   ]
  },
  {
   "cell_type": "markdown",
   "id": "88fabfdc",
   "metadata": {},
   "source": [
    "# Converting numpy to torch and vice versa"
   ]
  },
  {
   "cell_type": "code",
   "execution_count": 60,
   "id": "0b7fe855",
   "metadata": {},
   "outputs": [
    {
     "name": "stdout",
     "output_type": "stream",
     "text": [
      "tensor([1., 1., 1., 1., 1.])\n",
      "[1. 1. 1. 1. 1.]\n",
      "<class 'numpy.ndarray'>\n"
     ]
    }
   ],
   "source": [
    "#Tensor to Numpy\n",
    "k=torch.ones(5)\n",
    "print(k)\n",
    "l=k.numpy()\n",
    "print(l)\n",
    "print(type(l))"
   ]
  },
  {
   "cell_type": "markdown",
   "id": "91a2c404",
   "metadata": {},
   "source": [
    "We have to be careful as if tensor is on CPU and not on GPU then both objects will share the same memory location so that if we change one, we will also change the other.If we change one then the other also gets changed"
   ]
  },
  {
   "cell_type": "code",
   "execution_count": 61,
   "id": "00c4b4e6",
   "metadata": {},
   "outputs": [
    {
     "name": "stdout",
     "output_type": "stream",
     "text": [
      "tensor([2., 2., 2., 2., 2.])\n",
      "[2. 2. 2. 2. 2.]\n"
     ]
    }
   ],
   "source": [
    "#Example\n",
    "k.add_(1)\n",
    "print(k)\n",
    "print(l)\n"
   ]
  },
  {
   "cell_type": "code",
   "execution_count": 78,
   "id": "53815a20",
   "metadata": {},
   "outputs": [
    {
     "name": "stdout",
     "output_type": "stream",
     "text": [
      "[1. 1. 1. 1. 1.]\n",
      "tensor([1., 1., 1., 1., 1.])\n"
     ]
    }
   ],
   "source": [
    "#Numpy to Torch\n",
    "a=np.ones(5)\n",
    "print(a)\n",
    "b = torch.from_numpy(a).to(dtype=torch.float32)\n",
    "print(b)\n"
   ]
  },
  {
   "cell_type": "code",
   "execution_count": 79,
   "id": "a648534a",
   "metadata": {},
   "outputs": [
    {
     "name": "stdout",
     "output_type": "stream",
     "text": [
      "[2. 2. 2. 2. 2.]\n",
      "tensor([1., 1., 1., 1., 1.])\n"
     ]
    }
   ],
   "source": [
    "#GPU not connected\n",
    "a+=1\n",
    "print(a)\n",
    "print(b)"
   ]
  },
  {
   "cell_type": "markdown",
   "id": "45d9d472",
   "metadata": {},
   "source": [
    "To convert Tensor to numpy, it has to be done always on CPU."
   ]
  },
  {
   "cell_type": "code",
   "execution_count": 82,
   "id": "5434bdd8",
   "metadata": {},
   "outputs": [
    {
     "name": "stdout",
     "output_type": "stream",
     "text": [
      "tensor([1., 1., 1., 1., 1.], requires_grad=True)\n"
     ]
    }
   ],
   "source": [
    "#By default the value is false. When we change it to true, it means later it has to perform gradients.\n",
    "x=torch.ones(5, requires_grad=True)\n",
    "print(x)"
   ]
  },
  {
   "cell_type": "code",
   "execution_count": null,
   "id": "345f9bef",
   "metadata": {},
   "outputs": [],
   "source": []
  }
 ],
 "metadata": {
  "kernelspec": {
   "display_name": "Python 3 (ipykernel)",
   "language": "python",
   "name": "python3"
  },
  "language_info": {
   "codemirror_mode": {
    "name": "ipython",
    "version": 3
   },
   "file_extension": ".py",
   "mimetype": "text/x-python",
   "name": "python",
   "nbconvert_exporter": "python",
   "pygments_lexer": "ipython3",
   "version": "3.10.8"
  }
 },
 "nbformat": 4,
 "nbformat_minor": 5
}
