{
 "cells": [
  {
   "cell_type": "markdown",
   "id": "4f987013",
   "metadata": {},
   "source": [
    "# Activation Functions"
   ]
  },
  {
   "cell_type": "markdown",
   "id": "9b8fc514",
   "metadata": {},
   "source": [
    "Sigmoid is typically used in last layer of a binary classification problem\n",
    "\n",
    "TanH is basically used in hidden layers\n",
    "\n",
    "When don't know what to use , use ReLU\n",
    "\n",
    "Softmax in last layer in multi class classification problems"
   ]
  },
  {
   "cell_type": "code",
   "execution_count": 3,
   "id": "8ba6f330",
   "metadata": {},
   "outputs": [],
   "source": [
    "import torch\n",
    "import torch.nn as nn\n",
    "import torch.nn.functional as F"
   ]
  },
  {
   "cell_type": "code",
   "execution_count": 4,
   "id": "a1320bfe",
   "metadata": {},
   "outputs": [],
   "source": [
    "#option 1(create nn modules)\n",
    "class NeuralNet(nn.Module):\n",
    "    def __init__(self,input_size,hidden_size):\n",
    "        super(NeuralNet,self).__init__()\n",
    "        self.linear1 = nn.Linear(input_size,hidden_size)\n",
    "        self.relu =nn.ReLU()\n",
    "        self.linear2=nn.Linear(hidden_size,1)\n",
    "        self.sigmoid=nn.Sigmoid()\n",
    "        \n",
    "    def forward(self,x):\n",
    "        out=self.linear1(x)\n",
    "        out=self.relu(out)\n",
    "        out=self.linear2(out)\n",
    "        #sigmoid at end\n",
    "        out=self.sigmoid(out)\n",
    "        return out"
   ]
  },
  {
   "cell_type": "code",
   "execution_count": 5,
   "id": "67b10ac2",
   "metadata": {},
   "outputs": [],
   "source": [
    "#option 2(use activation function directly)\n",
    "class NeuralNet(nn.Module):\n",
    "    def __init__(self,input_size,hidden_size):\n",
    "        super(NeuralNet,self).__init__()\n",
    "        self.linear1 = nn.Linear(input_size,hidden_size)\n",
    "        self.linear2=nn.Linear(hidden_size,1)\n",
    "        \n",
    "    def forward(self,x):\n",
    "        out=torch.relu(self.linear1(x))\n",
    "        out=torch.sigmoid(self.linear2(out))\n",
    "        return out"
   ]
  },
  {
   "cell_type": "code",
   "execution_count": null,
   "id": "402079e5",
   "metadata": {},
   "outputs": [],
   "source": []
  }
 ],
 "metadata": {
  "kernelspec": {
   "display_name": "Python 3 (ipykernel)",
   "language": "python",
   "name": "python3"
  },
  "language_info": {
   "codemirror_mode": {
    "name": "ipython",
    "version": 3
   },
   "file_extension": ".py",
   "mimetype": "text/x-python",
   "name": "python",
   "nbconvert_exporter": "python",
   "pygments_lexer": "ipython3",
   "version": "3.10.8"
  }
 },
 "nbformat": 4,
 "nbformat_minor": 5
}
