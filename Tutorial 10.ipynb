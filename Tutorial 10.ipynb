{
 "cells": [
  {
   "cell_type": "markdown",
   "id": "c3d10c4a",
   "metadata": {},
   "source": [
    "# Data Transforms"
   ]
  },
  {
   "cell_type": "code",
   "execution_count": null,
   "id": "956da701",
   "metadata": {},
   "outputs": [],
   "source": [
    "import torch\n",
    "import torchvision\n",
    "from torch.utils.data import Dataset, DataLoader\n",
    "import numpy as np\n",
    "import math"
   ]
  },
  {
   "cell_type": "markdown",
   "id": "2719bc72",
   "metadata": {},
   "source": [
    "On Images\n",
    "---------\n",
    "CenterCrop, Grayscale, Pad, RandomAffine\n",
    "RandomCrop, RandomHorizontalFlip, RandomRotation\n",
    "Resize, Scale\n",
    "\n",
    "On Tensors\n",
    "----------\n",
    "LinearTransformation, Normalize, RandomErasing\n",
    "\n",
    "Conversion\n",
    "----------\n",
    "ToPILImage: from tensor or ndrarray\n",
    "ToTensor : from numpy.ndarray or PILImage\n",
    "\n",
    "Generic\n",
    "-------\n",
    "Use Lambda \n",
    "\n",
    "Custom\n",
    "------\n",
    "Write own class\n",
    "\n",
    "Compose multiple Transforms\n",
    "---------------------------\n",
    "composed = transforms.Compose([Rescale(256),\n",
    "                               RandomCrop(224)])\n",
    "'''"
   ]
  },
  {
   "cell_type": "code",
   "execution_count": null,
   "id": "8de0a4ee",
   "metadata": {},
   "outputs": [],
   "source": [
    "#if we use a built in dataset then we can 'transform' it\n",
    "#Transform helps in changing images to tensor\n",
    "#dataset=torchvision.datasets.MNIST(\n",
    " #   root='./data', transform=torchvision.transforms.ToTensor(), download = True\n",
    "#)"
   ]
  },
  {
   "cell_type": "code",
   "execution_count": null,
   "id": "8be61cef",
   "metadata": {},
   "outputs": [],
   "source": [
    "## implement __init__ , __getitem__ , and __len__\n",
    "class WineDataset(Dataset):\n",
    "    \n",
    "    def __init__(self, transform=None #by default):\n",
    "        # data loading\n",
    "        xy = np.loadtxt('./wine.csv', delimiter=\",\", dtype=np.float32, skiprows=1)\n",
    "        self.x = xy[:, 1:]\n",
    "        self.y = xy[:, [0]] # n_samples=1\n",
    "        self.n_samples=xy.shape[0]\n",
    "        self.transform=transform\n",
    "    \n",
    "                 \n",
    "    def __getitem__(self, index):\n",
    "        # dataset[0]\n",
    "        sample= self.x[index],self.y[index]\n",
    "        \n",
    "        if self.transform:\n",
    "                 sample=self.transform(sample)\n",
    "                 \n",
    "        return sample\n",
    "        \n",
    "    def __len__(self):\n",
    "        # len(dataset)\n",
    "        return self.n_samples"
   ]
  },
  {
   "cell_type": "code",
   "execution_count": null,
   "id": "77c78b94",
   "metadata": {},
   "outputs": [],
   "source": [
    "class ToTensor:\n",
    "    def __call__(self,sample):\n",
    "        inputs,targets=sample\n",
    "        return torch.from_numpy(inputs), torch.from_numpy(targets)\n",
    "    #We want to return a tuple like self.x[index],self.y[index]"
   ]
  },
  {
   "cell_type": "code",
   "execution_count": null,
   "id": "34793c6a",
   "metadata": {},
   "outputs": [],
   "source": [
    "class MulTransform:\n",
    "    def __init__(self, factor):\n",
    "        self.factor=factor\n",
    "        \n",
    "    def __call__(self,sample):\n",
    "        inputs,target= sample\n",
    "        inputs*=self.factor\n",
    "        return inputs, target"
   ]
  },
  {
   "cell_type": "code",
   "execution_count": null,
   "id": "28392c58",
   "metadata": {},
   "outputs": [],
   "source": [
    "dataset= WineDataset(transform=ToTensor())\n",
    "first_data=datset[0]\n",
    "features, labels= first_data\n",
    "print(features,labels)\n",
    "print(type(features),type(labels))"
   ]
  },
  {
   "cell_type": "code",
   "execution_count": null,
   "id": "29b79224",
   "metadata": {},
   "outputs": [],
   "source": [
    "composed =torchvision.transforms.Compose((ToTensor(), MLTransform(2)))\n",
    "dataset= WineDataset(transform=composed)\n",
    "first_data=datset[0]\n",
    "features, labels= first_data\n",
    "\n",
    "print(features,labels)\n",
    "print(type(features),type(labels))"
   ]
  },
  {
   "cell_type": "code",
   "execution_count": null,
   "id": "8c6e6322",
   "metadata": {},
   "outputs": [],
   "source": []
  },
  {
   "cell_type": "code",
   "execution_count": null,
   "id": "52b15298",
   "metadata": {},
   "outputs": [],
   "source": []
  }
 ],
 "metadata": {
  "kernelspec": {
   "display_name": "Python 3 (ipykernel)",
   "language": "python",
   "name": "python3"
  },
  "language_info": {
   "codemirror_mode": {
    "name": "ipython",
    "version": 3
   },
   "file_extension": ".py",
   "mimetype": "text/x-python",
   "name": "python",
   "nbconvert_exporter": "python",
   "pygments_lexer": "ipython3",
   "version": "3.10.8"
  }
 },
 "nbformat": 4,
 "nbformat_minor": 5
}
