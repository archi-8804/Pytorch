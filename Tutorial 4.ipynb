{
 "cells": [
  {
   "cell_type": "markdown",
   "id": "21991dcb",
   "metadata": {},
   "source": [
    "# Backpropagation Theory"
   ]
  },
  {
   "cell_type": "code",
   "execution_count": 1,
   "id": "dabc0c4e",
   "metadata": {},
   "outputs": [],
   "source": [
    "import torch"
   ]
  },
  {
   "cell_type": "code",
   "execution_count": 3,
   "id": "2372f8b8",
   "metadata": {},
   "outputs": [],
   "source": [
    "x=torch.tensor(1.0)\n",
    "y=torch.tensor(2.0)"
   ]
  },
  {
   "cell_type": "code",
   "execution_count": 4,
   "id": "0ac07703",
   "metadata": {},
   "outputs": [],
   "source": [
    "w=torch.tensor(3.0, requires_grad=True)"
   ]
  },
  {
   "cell_type": "code",
   "execution_count": 5,
   "id": "430d24b5",
   "metadata": {},
   "outputs": [],
   "source": [
    "#forward pass and compute loss\n",
    "y_hat=w*x\n",
    "loss=(y_hat-y)**2"
   ]
  },
  {
   "cell_type": "code",
   "execution_count": 6,
   "id": "d0fedfc0",
   "metadata": {},
   "outputs": [
    {
     "name": "stdout",
     "output_type": "stream",
     "text": [
      "tensor(2.)\n"
     ]
    }
   ],
   "source": [
    "#backward pass\n",
    "loss.backward()\n",
    "print(w.grad)"
   ]
  },
  {
   "cell_type": "code",
   "execution_count": 7,
   "id": "ae687456",
   "metadata": {},
   "outputs": [],
   "source": [
    "###update weights\n",
    "###next forward and backward propagation"
   ]
  },
  {
   "cell_type": "code",
   "execution_count": null,
   "id": "2bb80d37",
   "metadata": {},
   "outputs": [],
   "source": []
  }
 ],
 "metadata": {
  "kernelspec": {
   "display_name": "Python 3 (ipykernel)",
   "language": "python",
   "name": "python3"
  },
  "language_info": {
   "codemirror_mode": {
    "name": "ipython",
    "version": 3
   },
   "file_extension": ".py",
   "mimetype": "text/x-python",
   "name": "python",
   "nbconvert_exporter": "python",
   "pygments_lexer": "ipython3",
   "version": "3.10.8"
  }
 },
 "nbformat": 4,
 "nbformat_minor": 5
}
