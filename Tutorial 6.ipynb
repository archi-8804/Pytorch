{
 "cells": [
  {
   "cell_type": "markdown",
   "id": "2ba3be32",
   "metadata": {},
   "source": [
    "#This video conatins step 3 and 4 that is Prediction and Gradient Computation\n",
    "Prediction:Manually(DONE)\n",
    "\n",
    "Gradient Computation :Manually- Autograd(DONE)\n",
    "\n",
    "Loss computation:Manually - PyTorch Loss\n",
    "\n",
    "Parameter updates:Manually - PyTorch Optimizer"
   ]
  },
  {
   "cell_type": "code",
   "execution_count": 51,
   "id": "5a762ac5",
   "metadata": {},
   "outputs": [],
   "source": [
    "import torch\n",
    "import torch.nn as nn"
   ]
  },
  {
   "cell_type": "markdown",
   "id": "845ce2ff",
   "metadata": {},
   "source": [
    "Models in Pytorch: \n",
    "1)Design model (imput and output size, forward pass)\n",
    "\n",
    "2)Construct loss and optimizer\n",
    "\n",
    "3)Training loop\n",
    "\n",
    "-forward pass:compute predictions\n",
    "\n",
    "-backward pass: gradients\n",
    "\n",
    "-update weights upto some iterations"
   ]
  },
  {
   "cell_type": "code",
   "execution_count": 52,
   "id": "99e2180c",
   "metadata": {},
   "outputs": [],
   "source": [
    "X=torch.tensor([[1],[2],[3],[4]],dtype=torch.float32)\n",
    "Y=torch.tensor([[2],[4],[6],[8]],dtype=torch.float32)\n",
    "\n",
    "X_test=torch.tensor([5],dtype=torch.float32)"
   ]
  },
  {
   "cell_type": "code",
   "execution_count": 53,
   "id": "9b3cf14a",
   "metadata": {},
   "outputs": [
    {
     "name": "stdout",
     "output_type": "stream",
     "text": [
      "4 1\n"
     ]
    }
   ],
   "source": [
    "#w = torch.tensor(0.0, dtype=torch.float32, requires_grad=True)\n",
    "\n",
    "n_samples,n_features=X.shape\n",
    "print(n_samples,n_features)"
   ]
  },
  {
   "cell_type": "code",
   "execution_count": 54,
   "id": "e28beba7",
   "metadata": {},
   "outputs": [],
   "source": [
    "#model prediction(Pytorch model)\n",
    "#def forward(x):\n",
    " #   return w*x"
   ]
  },
  {
   "cell_type": "code",
   "execution_count": 55,
   "id": "5328c5be",
   "metadata": {},
   "outputs": [],
   "source": [
    "#input_size=n_features\n",
    "#output_size=n_features\n",
    "#1 layer\n",
    "#model = nn.Linear(input_size,output_size)"
   ]
  },
  {
   "cell_type": "code",
   "execution_count": 56,
   "id": "d7764bfe",
   "metadata": {},
   "outputs": [],
   "source": [
    "#Custom Linear Regression Model\n",
    "class LinearRegression(nn.Module):\n",
    "    def __init__(self, input_dim, output_dim):\n",
    "        super(LinearRegression, self).__init__()\n",
    "        # Define layers\n",
    "        self.lin = nn.Linear(input_dim, output_dim)\n",
    "        \n",
    "    def forward(self, x):\n",
    "        return self.lin(x)\n",
    "    \n",
    "model= LinearRegression(input_size, output_size)"
   ]
  },
  {
   "cell_type": "code",
   "execution_count": 57,
   "id": "99a31b86",
   "metadata": {},
   "outputs": [
    {
     "name": "stdout",
     "output_type": "stream",
     "text": [
      "Prediction before training: f(5)=4.143\n"
     ]
    }
   ],
   "source": [
    "#Loss not defined manually\n",
    "print(f'Prediction before training: f(5)={model(X_test).item():.3f}')"
   ]
  },
  {
   "cell_type": "code",
   "execution_count": 58,
   "id": "db880540",
   "metadata": {},
   "outputs": [],
   "source": [
    "#training\n",
    "learning_rate = 0.01\n",
    "n_iters=100"
   ]
  },
  {
   "cell_type": "code",
   "execution_count": 59,
   "id": "e9455f0a",
   "metadata": {},
   "outputs": [],
   "source": [
    "loss=nn.MSELoss()\n",
    "optimizer=torch.optim.SGD(model.parameters(),lr=learning_rate) #Stochastic Gradient Descent"
   ]
  },
  {
   "cell_type": "code",
   "execution_count": 60,
   "id": "6ccce2e0",
   "metadata": {},
   "outputs": [
    {
     "name": "stdout",
     "output_type": "stream",
     "text": [
      "epoch  1 : w =  0.8803120851516724  loss =  tensor(9.0673, grad_fn=<MseLossBackward0>)\n",
      "epoch  11 : w =  1.5737730264663696  loss =  tensor(0.3575, grad_fn=<MseLossBackward0>)\n",
      "epoch  21 : w =  1.692585825920105  loss =  tensor(0.1250, grad_fn=<MseLossBackward0>)\n",
      "epoch  31 : w =  1.7187522649765015  loss =  tensor(0.1123, grad_fn=<MseLossBackward0>)\n",
      "epoch  41 : w =  1.7298083305358887  loss =  tensor(0.1056, grad_fn=<MseLossBackward0>)\n",
      "epoch  51 : w =  1.7382314205169678  loss =  tensor(0.0995, grad_fn=<MseLossBackward0>)\n",
      "epoch  61 : w =  1.7460349798202515  loss =  tensor(0.0937, grad_fn=<MseLossBackward0>)\n",
      "epoch  71 : w =  1.7535481452941895  loss =  tensor(0.0882, grad_fn=<MseLossBackward0>)\n",
      "epoch  81 : w =  1.7608299255371094  loss =  tensor(0.0831, grad_fn=<MseLossBackward0>)\n",
      "epoch  91 : w =  1.767894983291626  loss =  tensor(0.0782, grad_fn=<MseLossBackward0>)\n"
     ]
    }
   ],
   "source": [
    "for epoch in range(n_iters):\n",
    "    #prediction=forward pass\n",
    "    y_pred=model(X)\n",
    "    \n",
    "    #loss is still a callable function\n",
    "    l=loss(Y,y_pred)\n",
    "    \n",
    "    #gradients=backward pass(back propagation not exact)\n",
    "    l.backward() #dl/dw\n",
    "    \n",
    "    #update weights(no need to do it manually)\n",
    "    optimizer.step() #optimization step\n",
    "        \n",
    "    #zero gradients\n",
    "    optimizer.zero_grad()\n",
    "    \n",
    "    if epoch%10==0:\n",
    "        [w,b]=model.parameters() #unpack parameters\n",
    "        print('epoch ', epoch+1, ': w = ', w[0][0].item(), ' loss = ', l)\n"
   ]
  },
  {
   "cell_type": "code",
   "execution_count": 61,
   "id": "f0188f28",
   "metadata": {},
   "outputs": [
    {
     "name": "stdout",
     "output_type": "stream",
     "text": [
      "Prediction after training: f(5) = 9.535\n"
     ]
    }
   ],
   "source": [
    "print(f'Prediction after training: f(5) = {model(X_test).item():.3f}')"
   ]
  },
  {
   "cell_type": "code",
   "execution_count": null,
   "id": "f42059ab",
   "metadata": {},
   "outputs": [],
   "source": []
  }
 ],
 "metadata": {
  "kernelspec": {
   "display_name": "Python 3 (ipykernel)",
   "language": "python",
   "name": "python3"
  },
  "language_info": {
   "codemirror_mode": {
    "name": "ipython",
    "version": 3
   },
   "file_extension": ".py",
   "mimetype": "text/x-python",
   "name": "python",
   "nbconvert_exporter": "python",
   "pygments_lexer": "ipython3",
   "version": "3.10.8"
  }
 },
 "nbformat": 4,
 "nbformat_minor": 5
}
