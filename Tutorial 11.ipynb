{
 "cells": [
  {
   "cell_type": "markdown",
   "id": "e78a3ec9",
   "metadata": {},
   "source": [
    "# Softmax and Cross-Entropy"
   ]
  },
  {
   "cell_type": "code",
   "execution_count": 1,
   "id": "c97ad9d0",
   "metadata": {},
   "outputs": [],
   "source": [
    "import numpy as np\n",
    "import torch\n",
    "import torch.nn as nn"
   ]
  },
  {
   "cell_type": "markdown",
   "id": "f6f8ba87",
   "metadata": {},
   "source": [
    "Numpy implementation"
   ]
  },
  {
   "cell_type": "code",
   "execution_count": 3,
   "id": "51cacc32",
   "metadata": {},
   "outputs": [],
   "source": [
    "#default axis none\n",
    "def softmax(x):\n",
    "    return np.exp(x)/np.sum(np.exp(x),axis=0)"
   ]
  },
  {
   "cell_type": "code",
   "execution_count": 4,
   "id": "1b7d3c66",
   "metadata": {},
   "outputs": [
    {
     "name": "stdout",
     "output_type": "stream",
     "text": [
      "softmax numpy: [0.65900114 0.24243297 0.09856589]\n"
     ]
    }
   ],
   "source": [
    "x=np.array([2.0,1.0,0.1])\n",
    "outputs=softmax(x)\n",
    "print('softmax numpy:',outputs)"
   ]
  },
  {
   "cell_type": "markdown",
   "id": "6a264c76",
   "metadata": {},
   "source": [
    "Pytorch implementation"
   ]
  },
  {
   "cell_type": "code",
   "execution_count": 5,
   "id": "3ff86b60",
   "metadata": {},
   "outputs": [
    {
     "name": "stdout",
     "output_type": "stream",
     "text": [
      "tensor([0.6590, 0.2424, 0.0986])\n"
     ]
    }
   ],
   "source": [
    "x=torch.tensor([2.0,1.0,0.1])\n",
    "outputs=torch.softmax(x,dim=0)\n",
    "print(outputs)"
   ]
  },
  {
   "cell_type": "markdown",
   "id": "fe2e51a9",
   "metadata": {},
   "source": [
    "Cross Entropy Loss"
   ]
  },
  {
   "cell_type": "code",
   "execution_count": 6,
   "id": "20bb35bb",
   "metadata": {},
   "outputs": [],
   "source": [
    "def cross_entropy(actual, predicted):\n",
    "    loss= -np.sum(actual * np.log(predicted))\n",
    "    return loss #/float(predicted.shape[0])"
   ]
  },
  {
   "cell_type": "code",
   "execution_count": 7,
   "id": "f2ea0598",
   "metadata": {},
   "outputs": [],
   "source": [
    "#y must be one hot encoded\n",
    "#if class 0:[1 0 0]\n",
    "#if class 1:[0 1 0]\n",
    "#if class 2:[0 0 1]\n",
    "Y= np.array([1,0,0])"
   ]
  },
  {
   "cell_type": "code",
   "execution_count": 9,
   "id": "6d316c2b",
   "metadata": {},
   "outputs": [],
   "source": [
    "#y_pred must has probabilities\n",
    "Y_pred_good=np.array([0.7,0.2,0.1])\n",
    "Y_pred_bad=np.array([0.1,0.3,0.6])\n",
    "l1=cross_entropy(Y, Y_pred_good)\n",
    "\n",
    "l2=cross_entropy(Y, Y_pred_bad)"
   ]
  },
  {
   "cell_type": "code",
   "execution_count": 10,
   "id": "48e4b501",
   "metadata": {},
   "outputs": [
    {
     "name": "stdout",
     "output_type": "stream",
     "text": [
      "Loss1 numpy:0.3567\n",
      "Loss2 numpy:2.3026\n"
     ]
    }
   ],
   "source": [
    "print(f'Loss1 numpy:{l1:.4f}')\n",
    "print(f'Loss2 numpy:{l2:.4f}')"
   ]
  },
  {
   "cell_type": "markdown",
   "id": "e44fbf7d",
   "metadata": {},
   "source": [
    "Pytorch implementation"
   ]
  },
  {
   "cell_type": "code",
   "execution_count": 20,
   "id": "dab03e9d",
   "metadata": {},
   "outputs": [],
   "source": [
    "#no Softmax in Last Layer\n",
    "#Y has class labels, not One-Hot!\n",
    "#Y_pred has raw scores(logits)\n",
    "#nn.crossentropy loss applies both nn.logsoftmax+nn.NLLLoss*negative log likelihood loss)\n",
    "#We don't have to implement the softmax layer by ourselves\n",
    "loss=nn.CrossEntropyLoss()\n",
    "Y = torch.tensor([0]) \n",
    "#nsamples x nclasses =1x3  #reshaping\n",
    "#view(1, -1) is used to reshape the 1-dimensional tensor to a 2-dimensional tensor with a batch size of 1 and an automatic determination of the number of columns (num_classes). \n",
    "Y_pred_good = torch.tensor([2.0,1.0,0.1]).view(1, -1)\n",
    "Y_pred_bad = torch.tensor([0.5,2.0,0.3]).view(1, -1)\n"
   ]
  },
  {
   "cell_type": "code",
   "execution_count": 21,
   "id": "c02f1e6b",
   "metadata": {},
   "outputs": [],
   "source": [
    "l1=loss(Y_pred_good, Y)\n",
    "l2=loss(Y_pred_bad, Y)"
   ]
  },
  {
   "cell_type": "code",
   "execution_count": 22,
   "id": "868cb004",
   "metadata": {},
   "outputs": [
    {
     "name": "stdout",
     "output_type": "stream",
     "text": [
      "0.4170299470424652\n",
      "1.840616226196289\n"
     ]
    }
   ],
   "source": [
    "print(l1.item())\n",
    "print(l2.item())"
   ]
  },
  {
   "cell_type": "code",
   "execution_count": 25,
   "id": "67b0515b",
   "metadata": {},
   "outputs": [
    {
     "name": "stdout",
     "output_type": "stream",
     "text": [
      "tensor([0])\n",
      "tensor([1])\n"
     ]
    }
   ],
   "source": [
    "#_: This is a placeholder variable. In this context, it's used to capture the maximum values, but since you're not interested in them, you use _ as a convention to indicate that you're ignoring this part of the result.\n",
    "#we don't need this that's why we used _\n",
    "_, predictions1=torch.max(Y_pred_good, 1)\n",
    "_, predictions2=torch.max(Y_pred_bad, 1)\n",
    "print(predictions1)\n",
    "print(predictions2)"
   ]
  },
  {
   "cell_type": "code",
   "execution_count": 26,
   "id": "1236fb5b",
   "metadata": {},
   "outputs": [],
   "source": [
    "#3 samples\n",
    "Y = torch.tensor([2,0,1])\n",
    "#nsamples x nclasses =3x3"
   ]
  },
  {
   "cell_type": "code",
   "execution_count": 28,
   "id": "ca24ff3b",
   "metadata": {},
   "outputs": [],
   "source": [
    "Y_pred_good = torch.tensor([[0.1,1.0,2.1],[2.0,1.0,0.1],[1.0,2.0,0.1]]).view(3, -1)\n",
    "Y_pred_bad = torch.tensor([[0.5,2.0,0.3],[0.5,2.0,0.3],[0.5,2.0,0.3]]).view(3, -1)\n"
   ]
  },
  {
   "cell_type": "code",
   "execution_count": 29,
   "id": "d192ff74",
   "metadata": {},
   "outputs": [],
   "source": [
    "l1=loss(Y_pred_good, Y)\n",
    "l2=loss(Y_pred_bad, Y)"
   ]
  },
  {
   "cell_type": "code",
   "execution_count": 30,
   "id": "ed93a7c4",
   "metadata": {},
   "outputs": [
    {
     "name": "stdout",
     "output_type": "stream",
     "text": [
      "0.40603378415107727\n",
      "1.407282829284668\n"
     ]
    }
   ],
   "source": [
    "print(l1.item())\n",
    "print(l2.item())"
   ]
  },
  {
   "cell_type": "code",
   "execution_count": 31,
   "id": "e5afb62d",
   "metadata": {},
   "outputs": [
    {
     "name": "stdout",
     "output_type": "stream",
     "text": [
      "tensor([2, 0, 1])\n",
      "tensor([1, 1, 1])\n"
     ]
    }
   ],
   "source": [
    "#_: This is a placeholder variable. In this context, it's used to capture the maximum values, but since you're not interested in them, you use _ as a convention to indicate that you're ignoring this part of the result.\n",
    "#we don't need this that's why we used _\n",
    "_, predictions1=torch.max(Y_pred_good, 1)\n",
    "_, predictions2=torch.max(Y_pred_bad, 1)\n",
    "print(predictions1)\n",
    "print(predictions2)"
   ]
  },
  {
   "cell_type": "markdown",
   "id": "76843d27",
   "metadata": {},
   "source": [
    "Multiclass classification"
   ]
  },
  {
   "cell_type": "code",
   "execution_count": 41,
   "id": "c8c6ac4b",
   "metadata": {},
   "outputs": [],
   "source": [
    "class NeuralNet2(nn.Module):\n",
    "    def __init__(self,input_size,hidden_size,num_classes):\n",
    "        super(NeuralNet2,self).__init__()\n",
    "        self.linear1 = nn.Linear(input_size,hidden_size)\n",
    "        self.relu =nn.ReLU()\n",
    "        self.linear2=nn.Linear(hidden_size,num_classes)\n",
    "        \n",
    "    def forward(self,x):\n",
    "        out=self.linear1(x)\n",
    "        out=self.relu(out)\n",
    "        out=self.linear2(out)\n",
    "        #no softmax at the end\n",
    "        return out"
   ]
  },
  {
   "cell_type": "code",
   "execution_count": 42,
   "id": "747c3cc0",
   "metadata": {},
   "outputs": [],
   "source": [
    "model=NeuralNet2(input_size=28*28, hidden_size=5, num_classes=3)\n",
    "criterion=nn.CrossEntropyLoss() #applies Softmax"
   ]
  },
  {
   "cell_type": "markdown",
   "id": "4dbb8844",
   "metadata": {},
   "source": [
    "Binary Classification"
   ]
  },
  {
   "cell_type": "code",
   "execution_count": 43,
   "id": "d27fc46e",
   "metadata": {},
   "outputs": [],
   "source": [
    "class NeuralNet1(nn.Module):\n",
    "    def __init__(self,input_size,hidden_size):\n",
    "        super(NeuralNet1,self).__init__()\n",
    "        self.linear1 = nn.Linear(input_size,hidden_size)\n",
    "        self.relu =nn.ReLU()\n",
    "        self.linear2=nn.Linear(hidden_size,1)\n",
    "        \n",
    "    def forward(self,x):\n",
    "        out=self.linear1(x)\n",
    "        out=self.relu(out)\n",
    "        out=self.linear2(out)\n",
    "        #sigmoid at end\n",
    "        y_pred=torch.sigmoid(out)\n",
    "        return y_pred"
   ]
  },
  {
   "cell_type": "code",
   "execution_count": 44,
   "id": "966d0937",
   "metadata": {},
   "outputs": [],
   "source": [
    "model=NeuralNet1(input_size=28*28, hidden_size=5)\n",
    "criterion=nn.BCELoss()"
   ]
  },
  {
   "cell_type": "code",
   "execution_count": null,
   "id": "13678ad5",
   "metadata": {},
   "outputs": [],
   "source": []
  }
 ],
 "metadata": {
  "kernelspec": {
   "display_name": "Python 3 (ipykernel)",
   "language": "python",
   "name": "python3"
  },
  "language_info": {
   "codemirror_mode": {
    "name": "ipython",
    "version": 3
   },
   "file_extension": ".py",
   "mimetype": "text/x-python",
   "name": "python",
   "nbconvert_exporter": "python",
   "pygments_lexer": "ipython3",
   "version": "3.10.8"
  }
 },
 "nbformat": 4,
 "nbformat_minor": 5
}
